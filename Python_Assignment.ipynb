{
 "cells": [
  {
   "cell_type": "code",
   "execution_count": 21,
   "id": "4ddf8624-6ffa-47d7-8340-e7212b4b1f2c",
   "metadata": {},
   "outputs": [
    {
     "data": {
      "text/plain": [
       "['freedom_fighter', 'Mohan', 'dash', 'karam', 'chandra', 'gandhi', 'Bapu']"
      ]
     },
     "execution_count": 21,
     "metadata": {},
     "output_type": "execute_result"
    }
   ],
   "source": [
    "#Q1.3\n",
    "\n",
    "name = [\"Mohan\", \"dash\", \"karam\", \"chandra\",\"gandhi\",\"Bapu\"]\n",
    " \n",
    "#a add an element 'freedom_fighter' in this list at the 0th index.\n",
    "\n",
    "name.insert(0,\"freedom_fighter\")\n",
    "name"
   ]
  },
  {
   "cell_type": "code",
   "execution_count": 22,
   "id": "64865946-1e1b-4a34-bae0-6746add540d9",
   "metadata": {},
   "outputs": [
    {
     "name": "stdout",
     "output_type": "stream",
     "text": [
      "6\n"
     ]
    }
   ],
   "source": [
    "#b Find the output  of the following and explain how?\n",
    "name = [\"freedomFighter\",\"Bapuji\",\"MOhan\" \"dash\", \"karam\",\"chandra\",\"gandhi\"]\n",
    "length1=len((name[-len(name)+1:-1:2]))\n",
    "length2=len((name[-len(name)+1:-1]))\n",
    "print(length1+length2)"
   ]
  },
  {
   "cell_type": "markdown",
   "id": "baccb6da-4aa4-4ca8-b4d0-102790b8eaab",
   "metadata": {},
   "source": [
    "1. Evaluating the name List\n",
    "2. Understanding the Slicing Operations\n",
    " - The 1st slice name[-5:-1:2] starts from \"Bapuji\" and goes up to but not including \"chandra\", taking every second element.So the slice will be [\"Bapuji\", \"karam\"].\n",
    " - The 2nd slice name[-5:-1] will include elements from \"Bapuji\" to \"chandra\", but not including \"gandhi\".So the slice will be [\"Bapuji\", \"MOhandash\", \"karam\", \"chandra\"].\n",
    "3. Calculating the Output\n",
    " - sum of length1 and length2"
   ]
  },
  {
   "cell_type": "code",
   "execution_count": 23,
   "id": "7b763edd-9876-471a-b429-e62abd6a6ffd",
   "metadata": {},
   "outputs": [
    {
     "data": {
      "text/plain": [
       "['freedomFighter',\n",
       " 'Bapuji',\n",
       " 'MOhandash',\n",
       " 'karam',\n",
       " 'chandra',\n",
       " 'gandhi',\n",
       " 'NetaJi',\n",
       " 'Bose']"
      ]
     },
     "execution_count": 23,
     "metadata": {},
     "output_type": "execute_result"
    }
   ],
   "source": [
    "#c add two more element in the name [\"NetaJi\",\"Bose\"] at the end of list.\n",
    "name.extend([\"NetaJi\",\"Bose\"])\n",
    "name"
   ]
  },
  {
   "cell_type": "code",
   "execution_count": 24,
   "id": "eaaa2ba1-9b3c-48c6-a0f2-3d0df8f5fc76",
   "metadata": {},
   "outputs": [
    {
     "name": "stdout",
     "output_type": "stream",
     "text": [
      "['Mohan', 'dash', 'karam', 'chandra', 'gandi', 'Bapuji']\n"
     ]
    }
   ],
   "source": [
    "#d what will be the value of temp?\n",
    "name = [\"Bapuji\", \"dash\", \"karam\", \"chandra\",\"gandi\",\"Mohan\"]\n",
    "temp=name[-1]\n",
    "name[-1]=name[0]\n",
    "name[0]=temp\n",
    "print(name)"
   ]
  },
  {
   "cell_type": "markdown",
   "id": "446d18f7-8cf0-4f13-975c-a59e49bbfe77",
   "metadata": {},
   "source": [
    "temp = \"Mohan\""
   ]
  },
  {
   "cell_type": "code",
   "execution_count": 25,
   "id": "df7e67f0-e06d-43f1-ad02-21003761967d",
   "metadata": {},
   "outputs": [
    {
     "name": "stdout",
     "output_type": "stream",
     "text": [
      "2\n",
      "4\n",
      "7\n"
     ]
    }
   ],
   "source": [
    "#Q1.4 Find the output of following\n",
    "animal = ['Human','cat','mat','cat','rat','Human', 'Lion']\n",
    "print(animal.count('Human'))\n",
    "print(animal.index('rat'))\n",
    "print(len(animal))"
   ]
  },
  {
   "cell_type": "code",
   "execution_count": 26,
   "id": "855097dd-6f32-4109-b7e3-84c8dc3e48a9",
   "metadata": {},
   "outputs": [],
   "source": [
    "#Q1.5\n",
    "tuple1=(10,20,\"Apple\",3.4,'a',[\"master\",\"ji\"],(\"sita\",\"geeta\",22),[{\"roll_no\":1},{\"name\":\"Navneet\"}])"
   ]
  },
  {
   "cell_type": "code",
   "execution_count": 27,
   "id": "1bce6e19-8d8b-485a-8966-5c9fcc4a6f95",
   "metadata": {},
   "outputs": [
    {
     "name": "stdout",
     "output_type": "stream",
     "text": [
      "8\n"
     ]
    }
   ],
   "source": [
    "#a\n",
    "print(len(tuple1))"
   ]
  },
  {
   "cell_type": "code",
   "execution_count": 28,
   "id": "c9f37dd1-e83f-4374-9672-1fdee16644b0",
   "metadata": {},
   "outputs": [
    {
     "name": "stdout",
     "output_type": "stream",
     "text": [
      "Navneet\n"
     ]
    }
   ],
   "source": [
    "#b\n",
    "print(tuple1[-1][-1][\"name\"])"
   ]
  },
  {
   "cell_type": "code",
   "execution_count": 29,
   "id": "1e5ece84-881b-4d5b-b22d-2a1207487b64",
   "metadata": {},
   "outputs": [
    {
     "name": "stdout",
     "output_type": "stream",
     "text": [
      "1\n"
     ]
    }
   ],
   "source": [
    "#c\n",
    "print(tuple1[7][0][\"roll_no\"])"
   ]
  },
  {
   "cell_type": "code",
   "execution_count": 30,
   "id": "e7d43ffa-064b-4582-8c29-e72adaf66c7a",
   "metadata": {},
   "outputs": [
    {
     "name": "stdout",
     "output_type": "stream",
     "text": [
      "ji\n"
     ]
    }
   ],
   "source": [
    "#d\n",
    "print(tuple1[-3][1])"
   ]
  },
  {
   "cell_type": "code",
   "execution_count": 31,
   "id": "7c58970b-1428-48ab-a884-c82233c6747a",
   "metadata": {},
   "outputs": [
    {
     "name": "stdout",
     "output_type": "stream",
     "text": [
      "22\n"
     ]
    }
   ],
   "source": [
    "#e\n",
    "print(tuple1[6][2])"
   ]
  },
  {
   "cell_type": "code",
   "execution_count": 32,
   "id": "9c9ba8c4-73eb-48c2-ae6d-d27a4ff216a9",
   "metadata": {},
   "outputs": [
    {
     "name": "stdin",
     "output_type": "stream",
     "text": [
      "Enter the color of the traffic signal: Red\n"
     ]
    },
    {
     "name": "stdout",
     "output_type": "stream",
     "text": [
      "Stop\n"
     ]
    }
   ],
   "source": [
    "#Q1.6 write a program to display the appropriate meessage as per the color of signal(RED-Stop/YELLOW-Stay/GREEN-Go) at the road crossing.\n",
    "\n",
    "def trafic_signal(color):\n",
    "    if color.lower() == 'red':\n",
    "        print(\"Stop\")\n",
    "    elif color.lower() == 'yellow':\n",
    "        print(\"Stay\")\n",
    "    elif color.lower() == 'green':\n",
    "        print(\"Go\")\n",
    "    else:\n",
    "        print(\"Invalid color\")\n",
    "        \n",
    "signal_color = input(\"Enter the color of the traffic signal:\")\n",
    "trafic_signal(signal_color)"
   ]
  },
  {
   "cell_type": "code",
   "execution_count": 36,
   "id": "a23fe00d-9b69-4691-bf2a-ffb23fbd2909",
   "metadata": {},
   "outputs": [
    {
     "name": "stdout",
     "output_type": "stream",
     "text": [
      "1. Addition\n",
      "2. Subtraction\n",
      "3. Multiplication\n",
      "4. Division\n"
     ]
    },
    {
     "name": "stdin",
     "output_type": "stream",
     "text": [
      "Enter choice:  1\n",
      "Enter first number:  2.3\n",
      "Enter second number:  3.2\n"
     ]
    },
    {
     "name": "stdout",
     "output_type": "stream",
     "text": [
      "2.3 + 3.2 = 5.5\n"
     ]
    }
   ],
   "source": [
    "#Q1.7 Write a program to create a simple calculator performing only four basic operation(+,-,/,*)\n",
    "\n",
    "def add(x, y):\n",
    "    return x + y\n",
    "def subtract(x, y):\n",
    "    return x - y\n",
    "def multiply(x, y):\n",
    "    return x * y\n",
    "def divide(x, y):\n",
    "    if y == 0:\n",
    "        return \"Error: Division by zero\"\n",
    "    else:\n",
    "        return x / y\n",
    "def calculator():\n",
    "    print(\"1. Addition\")\n",
    "    print(\"2. Subtraction\")\n",
    "    print(\"3. Multiplication\")\n",
    "    print(\"4. Division\")\n",
    "    choice = input(\"Enter choice: \")\n",
    "    num1 = float(input(\"Enter first number: \"))\n",
    "    num2 = float(input(\"Enter second number: \"))\n",
    "    if choice == '1':\n",
    "        print(f\"{num1} + {num2} = {add(num1, num2)}\")\n",
    "    elif choice == '2':\n",
    "        print(f\"{num1} - {num2} = {subtract(num1, num2)}\")\n",
    "    elif choice == '3':\n",
    "        print(f\"{num1} * {num2} = {multiply(num1, num2)}\")\n",
    "    elif choice == '4':\n",
    "        print(f\"{num1} / {num2} = {divide(num1, num2)}\")\n",
    "    else:\n",
    "        print(\"Invalid input\")\n",
    "calculator()"
   ]
  },
  {
   "cell_type": "code",
   "execution_count": 37,
   "id": "f8090524-6e39-4112-b8cf-725f6d85f576",
   "metadata": {},
   "outputs": [
    {
     "name": "stdout",
     "output_type": "stream",
     "text": [
      "The largest number among 10, 25, and 15 is 25.\n"
     ]
    }
   ],
   "source": [
    "#Q1.8 write a program to find the larger of t6he three pre-specified number using ternary operators.\n",
    "\n",
    "a = 10\n",
    "b = 25\n",
    "c = 15\n",
    "\n",
    "largest = a if (a > b and a > c) else (b if b > c else c)\n",
    "print(f\"The largest number among {a}, {b}, and {c} is {largest}.\")"
   ]
  },
  {
   "cell_type": "code",
   "execution_count": 38,
   "id": "43e5e07f-383c-4a69-a2e2-12b45e7bc6d3",
   "metadata": {},
   "outputs": [
    {
     "name": "stdin",
     "output_type": "stream",
     "text": [
      "Enter a whole number:  16\n"
     ]
    },
    {
     "name": "stdout",
     "output_type": "stream",
     "text": [
      "Factors of 16 are: 1 2 4 8 16 "
     ]
    }
   ],
   "source": [
    "#Q1.9 write a program to find the factors of a whole number using while loop.\n",
    "\n",
    "number = int(input(\"Enter a whole number: \"))\n",
    "\n",
    "i = 1\n",
    "\n",
    "print(f\"Factors of {number} are:\", end=\" \")\n",
    "while i <= number:\n",
    "    if number % i == 0:\n",
    "        print(i, end=\" \")\n",
    "    i += 1"
   ]
  },
  {
   "cell_type": "code",
   "execution_count": 39,
   "id": "8cd52aa2-3be5-4052-9e8e-47ff7394f0ca",
   "metadata": {},
   "outputs": [
    {
     "name": "stdin",
     "output_type": "stream",
     "text": [
      "Enter a number (enter a negative number to stop):  1\n",
      "Enter a number (enter a negative number to stop):  2\n",
      "Enter a number (enter a negative number to stop):  3\n",
      "Enter a number (enter a negative number to stop):  4\n",
      "Enter a number (enter a negative number to stop):  -1\n"
     ]
    },
    {
     "data": {
      "text/plain": [
       "10"
      ]
     },
     "execution_count": 39,
     "metadata": {},
     "output_type": "execute_result"
    }
   ],
   "source": [
    "#Q1.10\n",
    "\n",
    "def sum_positive_numbers():\n",
    "    sum_positive = 0\n",
    "    while True:\n",
    "        num = int(input(\"Enter a number (enter a negative number to stop): \"))\n",
    "        if num < 0:\n",
    "            break\n",
    "        sum_positive += num\n",
    "    return sum_positive\n",
    "sum_positive_numbers()"
   ]
  },
  {
   "cell_type": "code",
   "execution_count": 40,
   "id": "fc2287ac-5e55-4c6e-8a15-d248273bc26c",
   "metadata": {},
   "outputs": [
    {
     "name": "stdout",
     "output_type": "stream",
     "text": [
      "Prime numbers between 2 and 100 are:\n",
      "2 3 5 7 11 13 17 19 23 29 31 37 41 43 47 53 59 61 67 71 73 79 83 89 97 "
     ]
    }
   ],
   "source": [
    "#Q1.11 write a program to find prime numbers betwwen 2 to 100 using nested loops.\n",
    "\n",
    "print(\"Prime numbers between 2 and 100 are:\")\n",
    "\n",
    "for num in range(2, 101): \n",
    "    is_prime = True \n",
    "    for i in range(2, int(num ** 0.5) + 1):\n",
    "        if num % i == 0:  \n",
    "            is_prime = False\n",
    "            break  \n",
    "    if is_prime: \n",
    "        print(num, end=\" \")"
   ]
  },
  {
   "cell_type": "code",
   "execution_count": 4,
   "id": "65908238-18b7-4faf-8f2c-4c94f939acd1",
   "metadata": {},
   "outputs": [
    {
     "name": "stdin",
     "output_type": "stream",
     "text": [
      "Enter the marks for subject 1:  99\n",
      "Enter the marks for subject 2:  95.5\n",
      "Enter the marks for subject 3:  85\n",
      "Enter the marks for subject 4:  90\n",
      "Enter the marks for subject 5:  92\n"
     ]
    },
    {
     "name": "stdout",
     "output_type": "stream",
     "text": [
      "Marks obtained:\n",
      "Subject 1: 99.0\n",
      "Subject 2: 95.5\n",
      "Subject 3: 85.0\n",
      "Subject 4: 90.0\n",
      "Subject 5: 92.0\n",
      "Total marks: 461.5\n",
      "Percentage: 92.3\n",
      "Grade: A\n"
     ]
    }
   ],
   "source": [
    "#Q1.12\n",
    "def calculate_grade(marks):\n",
    "  total_marks = sum(marks)\n",
    "  percentage = total_marks / 5\n",
    "  if percentage > 85:\n",
    "    return \"A\"\n",
    "  elif percentage >= 75:\n",
    "    return \"B\"\n",
    "  elif percentage >= 50:\n",
    "    return \"C\"\n",
    "  elif percentage > 30:\n",
    "    return \"D\"\n",
    "  else:\n",
    "    return \"Reappear\"\n",
    "\n",
    "def main():\n",
    "  marks = []\n",
    "  for i in range(5):\n",
    "    subject = input(\"Enter the marks for subject {}: \".format(i + 1))\n",
    "    marks.append(float(subject))\n",
    "\n",
    "  print(\"Marks obtained:\")\n",
    "  for i, mark in enumerate(marks):\n",
    "    print(\"Subject {}: {}\".format(i + 1, mark))\n",
    "\n",
    "  total_marks = sum(marks)\n",
    "  percentage = total_marks / 5\n",
    "  print(\"Total marks:\", total_marks)\n",
    "  print(\"Percentage:\", percentage)\n",
    "\n",
    "  grade = calculate_grade(marks)\n",
    "  print(\"Grade:\", grade)\n",
    "\n",
    "if __name__ == \"__main__\":\n",
    "  main()"
   ]
  },
  {
   "cell_type": "code",
   "execution_count": 5,
   "id": "f1f1d498-e29e-4d92-82be-744fe4647c9b",
   "metadata": {},
   "outputs": [
    {
     "name": "stdin",
     "output_type": "stream",
     "text": [
      "Enter a wavelength (nm):  445\n"
     ]
    },
    {
     "name": "stdout",
     "output_type": "stream",
     "text": [
      "Indigo\n"
     ]
    }
   ],
   "source": [
    "#Q1.13\n",
    "def get_color(wavelength):\n",
    "  if 400 <= wavelength <= 440:\n",
    "    return \"Violet\"\n",
    "  elif 440 <= wavelength <= 460:\n",
    "    return \"Indigo\"\n",
    "  elif 460 <= wavelength <= 500:\n",
    "    return \"Blue\"\n",
    "  elif 500 <= wavelength <= 570:\n",
    "    return \"Green\"\n",
    "  elif 570 <= wavelength <= 590:\n",
    "    return \"Yellow\"\n",
    "  elif 590 <= wavelength <= 620:\n",
    "    return \"Orange\"\n",
    "  elif 620 <= wavelength <= 720:\n",
    "    return \"Red\"\n",
    "  else:\n",
    "    return \"Invisible\"\n",
    "\n",
    "while True:\n",
    "  try:\n",
    "    wavelength = float(input(\"Enter a wavelength (nm): \"))\n",
    "    color = get_color(wavelength)\n",
    "    print(color)\n",
    "    break\n",
    "  except ValueError:\n",
    "    print(\"Invalid input. Please enter a numerical value for wavelength.\")"
   ]
  },
  {
   "cell_type": "code",
   "execution_count": 6,
   "id": "f7703f75-45c5-4d18-aef9-2f83d8c89785",
   "metadata": {},
   "outputs": [
    {
     "name": "stdout",
     "output_type": "stream",
     "text": [
      "Gravitational force between Earth and Sun: 3.5423960813684973e+22 N\n",
      "Gravitational force between Moon and Earth: 1.982022545652681e+20 N\n",
      "The Earth is more attracted to the Sun because force_earth_sun > force_moon_earth\n"
     ]
    }
   ],
   "source": [
    "#Q1.14\n",
    "G = 6.6743e-11 \n",
    "mass_sun = 1.989e30\n",
    "mass_earth = 5.972e24\n",
    "mass_moon = 7.34767309e22\n",
    "distance_earth_sun = 1.496e11\n",
    "distance_moon_earth = 3.844e8\n",
    "\n",
    "def gravitational_force(mass1, mass2, distance):\n",
    "  return G * mass1 * mass2 / distance**2\n",
    "\n",
    "force_earth_sun = gravitational_force(mass_earth, mass_sun, distance_earth_sun)\n",
    "force_moon_earth = gravitational_force(mass_moon, mass_earth, distance_moon_earth)\n",
    "\n",
    "print(\"Gravitational force between Earth and Sun:\", force_earth_sun, \"N\")\n",
    "print(\"Gravitational force between Moon and Earth:\", force_moon_earth, \"N\")\n",
    "\n",
    "if force_earth_sun > force_moon_earth:\n",
    "  print(\"The Earth is more attracted to the Sun because force_earth_sun > force_moon_earth\")\n",
    "elif force_earth_sun < force_moon_earth:\n",
    "  print(\"The Earth is more attracted to the Moon.\")\n",
    "else:\n",
    "  print(\"The Earth is equally attracted to the Sun and Moon.\")"
   ]
  },
  {
   "cell_type": "code",
   "execution_count": 1,
   "id": "a02c3059-4850-44d4-ad2d-89b720fe0e36",
   "metadata": {},
   "outputs": [
    {
     "name": "stdout",
     "output_type": "stream",
     "text": [
      "Initial Information of Student 1:\n",
      "Name: Abcd\n",
      "Age: 21\n",
      "Roll Number: 1\n",
      "\n",
      "Initial Information of Student 2:\n",
      "Name: Pqrst\n",
      "Age: 21\n",
      "Roll Number: 2\n",
      "\n",
      "Updated Information of Student 1:\n",
      "Name: Abcd dev\n",
      "Age: 22\n",
      "Roll Number: 1\n",
      "\n",
      "Updated Information of Student 2:\n",
      "Name: Pqrst\n",
      "Age: 21\n",
      "Roll Number: 3\n"
     ]
    }
   ],
   "source": [
    "#Q2\n",
    "class Student:\n",
    "    def __init__(self, name, age, roll_number):\n",
    "        self.__name = name\n",
    "        self.__age = age\n",
    "        self.__roll_number = roll_number\n",
    "\n",
    "    def get_name(self):\n",
    "        return self.__name\n",
    "    \n",
    "    def set_name(self, name):\n",
    "        self.__name = name\n",
    "\n",
    "    def get_age(self):\n",
    "        return self.__age\n",
    "    \n",
    "    def set_age(self, age):\n",
    "        self.__age = age\n",
    "\n",
    "    def get_roll_number(self):\n",
    "        return self.__roll_number\n",
    "    \n",
    "    def set_roll_number(self, roll_number):\n",
    "        self.__roll_number = roll_number\n",
    "\n",
    "    def display_info(self):\n",
    "        print(f\"Name: {self.__name}\")\n",
    "        print(f\"Age: {self.__age}\")\n",
    "        print(f\"Roll Number: {self.__roll_number}\")\n",
    "\n",
    "    def update_details(self, name=None, age=None, roll_number=None):\n",
    "        if name is not None:\n",
    "            self.set_name(name)\n",
    "        if age is not None:\n",
    "            self.set_age(age)\n",
    "        if roll_number is not None:\n",
    "            self.set_roll_number(roll_number)\n",
    "\n",
    "student1 = Student(\"Abcd\", 21, \"1\")\n",
    "student2 = Student(\"Pqrst\", 21, \"2\")\n",
    "\n",
    "print(\"Initial Information of Student 1:\")\n",
    "student1.display_info()\n",
    "\n",
    "print(\"\\nInitial Information of Student 2:\")\n",
    "student2.display_info()\n",
    "\n",
    "student1.update_details(name=\"Abcd dev\", age=22)\n",
    "print(\"\\nUpdated Information of Student 1:\")\n",
    "student1.display_info()\n",
    "\n",
    "student2.update_details(roll_number=\"3\")\n",
    "print(\"\\nUpdated Information of Student 2:\")\n",
    "student2.display_info()"
   ]
  },
  {
   "cell_type": "code",
   "execution_count": 2,
   "id": "98a94c18-e7e0-46f4-bb61-3c9b3173447f",
   "metadata": {},
   "outputs": [
    {
     "name": "stdout",
     "output_type": "stream",
     "text": [
      "Initial Information of Book 1:\n",
      "Book Name: Harry Potter and the Goblet of Fire\n",
      "Author: J. K. Rowling\n",
      "Availability: Available\n",
      "\n",
      "Initial Information of Book 2:\n",
      "Book Name: To Kill a Mockingbird\n",
      "Author: Harper Lee\n",
      "Availability: Not Available\n",
      "\n",
      "Borrowing Book 1:\n",
      "You have successfully borrowed 'Harry Potter and the Goblet of Fire'.\n",
      "Book Name: Harry Potter and the Goblet of Fire\n",
      "Author: J. K. Rowling\n",
      "Availability: Not Available\n",
      "\n",
      "Trying to borrow Book 1 again:\n",
      "Sorry, 'Harry Potter and the Goblet of Fire' is currently not available.\n",
      "\n",
      "Returning Book 1:\n",
      "You have successfully returned 'Harry Potter and the Goblet of Fire'.\n",
      "Book Name: Harry Potter and the Goblet of Fire\n",
      "Author: J. K. Rowling\n",
      "Availability: Available\n",
      "\n",
      "Trying to return Book 1 again:\n",
      "'Harry Potter and the Goblet of Fire' was not borrowed.\n",
      "\n",
      "Borrowing Book 2:\n",
      "Sorry, 'To Kill a Mockingbird' is currently not available.\n",
      "Book Name: To Kill a Mockingbird\n",
      "Author: Harper Lee\n",
      "Availability: Not Available\n"
     ]
    }
   ],
   "source": [
    "#Q3\n",
    "class LibraryBook:\n",
    "    def __init__(self, book_name, author, availability_status=True):\n",
    "        self.__book_name = book_name\n",
    "        self.__author = author\n",
    "        self.__availability_status = availability_status\n",
    "    \n",
    "    def get_book_name(self):\n",
    "        return self.__book_name\n",
    "\n",
    "    def get_author(self):\n",
    "        return self.__author\n",
    "\n",
    "    def get_availability_status(self):\n",
    "        return self.__availability_status\n",
    "\n",
    "    def borrow_book(self):\n",
    "        if self.__availability_status:\n",
    "            self.__availability_status = False\n",
    "            print(f\"You have successfully borrowed '{self.__book_name}'.\")\n",
    "        else:\n",
    "            print(f\"Sorry, '{self.__book_name}' is currently not available.\")\n",
    "\n",
    "    def return_book(self):\n",
    "        if not self.__availability_status:\n",
    "            self.__availability_status = True\n",
    "            print(f\"You have successfully returned '{self.__book_name}'.\")\n",
    "        else:\n",
    "            print(f\"'{self.__book_name}' was not borrowed.\")\n",
    "\n",
    "    def display_info(self):\n",
    "        availability = \"Available\" if self.__availability_status else \"Not Available\"\n",
    "        print(f\"Book Name: {self.__book_name}\")\n",
    "        print(f\"Author: {self.__author}\")\n",
    "        print(f\"Availability: {availability}\")\n",
    "\n",
    "book1 = LibraryBook(\"Harry Potter and the Goblet of Fire\", \"J. K. Rowling\")\n",
    "book2 = LibraryBook(\"To Kill a Mockingbird\", \"Harper Lee\", False)\n",
    "\n",
    "print(\"Initial Information of Book 1:\")\n",
    "book1.display_info()\n",
    "\n",
    "print(\"\\nInitial Information of Book 2:\")\n",
    "book2.display_info()\n",
    "\n",
    "print(\"\\nBorrowing Book 1:\")\n",
    "book1.borrow_book()\n",
    "book1.display_info()\n",
    "\n",
    "print(\"\\nTrying to borrow Book 1 again:\")\n",
    "book1.borrow_book()\n",
    "\n",
    "print(\"\\nReturning Book 1:\")\n",
    "book1.return_book()\n",
    "book1.display_info()\n",
    "\n",
    "print(\"\\nTrying to return Book 1 again:\")\n",
    "book1.return_book()\n",
    "\n",
    "print(\"\\nBorrowing Book 2:\")\n",
    "book2.borrow_book()\n",
    "book2.display_info()"
   ]
  },
  {
   "cell_type": "code",
   "execution_count": 3,
   "id": "8c6db792-e5c8-45e5-8122-0dbb85d2c779",
   "metadata": {},
   "outputs": [
    {
     "name": "stdout",
     "output_type": "stream",
     "text": [
      "\n",
      "Savings Account Transactions:\n",
      "Account Number: SA123\n",
      "Balance: $1000.00\n",
      "Deposited $300.00. New balance: $1300.00\n",
      "Withdrew $250.00. New balance: $1050.00\n",
      "Added interest: $21.00. New balance: $1071.00\n",
      "Account Number: SA123\n",
      "Balance: $1071.00\n",
      "\n",
      "Checking Account Transactions:\n",
      "Account Number: CA123\n",
      "Balance: $500.00\n",
      "Deposited $300.00. New balance: $800.00\n",
      "Withdrew $1000.00. New balance: $-200.00\n",
      "Overdraft limit exceeded or invalid withdrawal amount.\n",
      "Account Number: CA123\n",
      "Balance: $-200.00\n"
     ]
    }
   ],
   "source": [
    "#Q4\n",
    "class BankAccount:\n",
    "    def __init__(self, account_number, balance=0.0):\n",
    "        self._account_number = account_number\n",
    "        self._balance = balance\n",
    "    \n",
    "    def deposit(self, amount):\n",
    "        if amount > 0:\n",
    "            self._balance += amount\n",
    "            print(f\"Deposited ${amount:.2f}. New balance: ${self._balance:.2f}\")\n",
    "        else:\n",
    "            print(\"Deposit amount must be positive.\")\n",
    "    \n",
    "    def withdraw(self, amount):\n",
    "        if amount > 0 and amount <= self._balance:\n",
    "            self._balance -= amount\n",
    "            print(f\"Withdrew ${amount:.2f}. New balance: ${self._balance:.2f}\")\n",
    "        else:\n",
    "            print(\"Insufficient funds or invalid withdrawal amount.\")\n",
    "    \n",
    "    def balance_inquiry(self):\n",
    "        print(f\"Account Number: {self._account_number}\")\n",
    "        print(f\"Balance: ${self._balance:.2f}\")\n",
    "\n",
    "class SavingsAccount(BankAccount):\n",
    "    def __init__(self, account_number, balance=0.0, interest_rate=0.02):\n",
    "        super().__init__(account_number, balance)\n",
    "        self._interest_rate = interest_rate\n",
    "    \n",
    "    def add_interest(self):\n",
    "        interest = self._balance * self._interest_rate\n",
    "        self._balance += interest\n",
    "        print(f\"Added interest: ${interest:.2f}. New balance: ${self._balance:.2f}\")\n",
    "\n",
    "class CheckingAccount(BankAccount):\n",
    "    def __init__(self, account_number, balance=0.0, overdraft_limit=500.0):\n",
    "        super().__init__(account_number, balance)\n",
    "        self._overdraft_limit = overdraft_limit\n",
    "    \n",
    "    def withdraw(self, amount):\n",
    "        if amount > 0 and self._balance - amount >= -self._overdraft_limit:\n",
    "            self._balance -= amount\n",
    "            print(f\"Withdrew ${amount:.2f}. New balance: ${self._balance:.2f}\")\n",
    "        else:\n",
    "            print(\"Overdraft limit exceeded or invalid withdrawal amount.\")\n",
    "\n",
    "savings = SavingsAccount(\"SA123\", 1000.0)\n",
    "print(\"\\nSavings Account Transactions:\")\n",
    "savings.balance_inquiry()\n",
    "savings.deposit(300)\n",
    "savings.withdraw(250)\n",
    "savings.add_interest()\n",
    "savings.balance_inquiry()\n",
    "\n",
    "checking = CheckingAccount(\"CA123\", 500.0)\n",
    "print(\"\\nChecking Account Transactions:\")\n",
    "checking.balance_inquiry()\n",
    "checking.deposit(300)\n",
    "checking.withdraw(1000) \n",
    "checking.withdraw(2000)  \n",
    "checking.balance_inquiry()"
   ]
  },
  {
   "cell_type": "code",
   "execution_count": 4,
   "id": "201f8944-c474-41fc-878b-df88c096e077",
   "metadata": {},
   "outputs": [
    {
     "name": "stdout",
     "output_type": "stream",
     "text": [
      "Dog sound:\n",
      "Woof! Woof!\n",
      "Cat sound:\n",
      "Meow! Meow!\n"
     ]
    }
   ],
   "source": [
    "#Q5\n",
    "class Animal:\n",
    "    def make_sound(self):\n",
    "        pass\n",
    "\n",
    "class Dog(Animal):\n",
    "    def make_sound(self):\n",
    "        print(\"Woof! Woof!\")\n",
    "\n",
    "class Cat(Animal):\n",
    "    def make_sound(self):\n",
    "        print(\"Meow! Meow!\")\n",
    "\n",
    "dog = Dog()\n",
    "cat = Cat()\n",
    "\n",
    "print(\"Dog sound:\")\n",
    "dog.make_sound()\n",
    "\n",
    "print(\"Cat sound:\")\n",
    "cat.make_sound()"
   ]
  },
  {
   "cell_type": "code",
   "execution_count": 1,
   "id": "08354deb-5909-491d-aab0-fc2a58529839",
   "metadata": {},
   "outputs": [
    {
     "name": "stdout",
     "output_type": "stream",
     "text": [
      "Added Pizza to the menu.\n",
      "Added Burger to the menu.\n",
      "Added Coffee to the menu.\n",
      "Added Wine to the menu.\n",
      "\n",
      "Current Menu:\n",
      "ID: 135693591606656\n",
      "Name: Pizza\n",
      "Description: Veggie extravaganza pizza\n",
      "Price: 12.99\n",
      "Category: Main Course\n",
      "Cuisine: Italian\n",
      "--------------------\n",
      "ID: 135693591606848\n",
      "Name: Burger\n",
      "Description: Veg whopper burger\n",
      "Price: 9.99\n",
      "Category: Main Course\n",
      "Cuisine: American\n",
      "--------------------\n",
      "ID: 135693591606992\n",
      "Name: Coffee\n",
      "Description: Filter coffee\n",
      "Price: 2.99\n",
      "Category: Beverage\n",
      "Alcoholic: No\n",
      "--------------------\n",
      "ID: 135693591608768\n",
      "Name: Wine\n",
      "Description: Red wine\n",
      "Price: 6.99\n",
      "Category: Beverage\n",
      "Alcoholic: Yes\n",
      "--------------------\n",
      "Updated item with ID 135693591606656.\n",
      "\n",
      "Updated Menu:\n",
      "ID: 135693591606656\n",
      "Name: Pizza\n",
      "Description: Veggie extravaganza pizza with extra toppings\n",
      "Price: 14.99\n",
      "Category: Main Course\n",
      "Cuisine: Italian\n",
      "--------------------\n",
      "ID: 135693591606848\n",
      "Name: Burger\n",
      "Description: Veg whopper burger\n",
      "Price: 9.99\n",
      "Category: Main Course\n",
      "Cuisine: American\n",
      "--------------------\n",
      "ID: 135693591606992\n",
      "Name: Coffee\n",
      "Description: Filter coffee\n",
      "Price: 2.99\n",
      "Category: Beverage\n",
      "Alcoholic: No\n",
      "--------------------\n",
      "ID: 135693591608768\n",
      "Name: Wine\n",
      "Description: Red wine\n",
      "Price: 6.99\n",
      "Category: Beverage\n",
      "Alcoholic: Yes\n",
      "--------------------\n",
      "Removed Coffee from the menu.\n",
      "\n",
      "Menu after removing an item:\n",
      "ID: 135693591606656\n",
      "Name: Pizza\n",
      "Description: Veggie extravaganza pizza with extra toppings\n",
      "Price: 14.99\n",
      "Category: Main Course\n",
      "Cuisine: Italian\n",
      "--------------------\n",
      "ID: 135693591606848\n",
      "Name: Burger\n",
      "Description: Veg whopper burger\n",
      "Price: 9.99\n",
      "Category: Main Course\n",
      "Cuisine: American\n",
      "--------------------\n",
      "ID: 135693591608768\n",
      "Name: Wine\n",
      "Description: Red wine\n",
      "Price: 6.99\n",
      "Category: Beverage\n",
      "Alcoholic: Yes\n",
      "--------------------\n"
     ]
    }
   ],
   "source": [
    "#Q6\n",
    "class MenuItem:\n",
    "    def __init__(self,name,description,price,category):\n",
    "        self.__id = id(self)\n",
    "        self.name = name\n",
    "        self.description = description\n",
    "        self.price = price\n",
    "        self.category = category\n",
    "    def get_id(self):\n",
    "        return self.__id\n",
    "    def update(self,name = None ,description = None ,price = None ,category = None):\n",
    "        if name is not None:\n",
    "            self.name = name\n",
    "        if description is not None:\n",
    "            self.description = description\n",
    "        if price is not None:\n",
    "            self.price = price\n",
    "        if category is not None:\n",
    "            self.price = category\n",
    "    def display(self):\n",
    "        print(f\"ID: {self.__id}\")\n",
    "        print(f\"Name: {self.name}\")\n",
    "        print(f\"Description: {self.description}\")\n",
    "        print(f\"Price: {self.price}\")\n",
    "        print(f\"Category: {self.category}\")\n",
    "class FoodItem(MenuItem):\n",
    "    def __init__(self, name, description, price, category, cuisine):\n",
    "        super().__init__( name, description, price, category)\n",
    "        self.cuisine = cuisine\n",
    "    def display(self):\n",
    "        super().display()\n",
    "        print(f\"Cuisine: {self.cuisine}\")\n",
    "class BeverageItem(MenuItem):\n",
    "    def __init__(self, name, description, price, category, is_alcoholic):\n",
    "        super().__init__(name, description, price, category)\n",
    "        self.is_alcoholic = is_alcoholic\n",
    "    def display(self):\n",
    "        super().display()\n",
    "        print(f\"Alcoholic: {'Yes' if self.is_alcoholic else 'No'}\")\n",
    "class Menu:\n",
    "    def __init__(self):\n",
    "        self.menu_items = {}\n",
    "    def add_item(self, item):\n",
    "        self.menu_items[item.get_id()] = item\n",
    "        print(f\"Added {item.name} to the menu.\")\n",
    "    def remove_item(self, item_id):\n",
    "        if item_id in self.menu_items:\n",
    "            removed_item = self.menu_items.pop(item_id)\n",
    "            print(f\"Removed {removed_item.name} from the menu.\")\n",
    "        else:\n",
    "            print(\"Item not found in the menu.\")\n",
    "    def update_item(self, item_id, **kwargs):\n",
    "        if item_id in self.menu_items:\n",
    "            self.menu_items[item_id].update(**kwargs)\n",
    "            print(f\"Updated item with ID {item_id}.\")\n",
    "        else:\n",
    "            print(\"Item not found in the menu.\")\n",
    "    def display_menu(self):\n",
    "        for item in self.menu_items.values():\n",
    "            item.display()\n",
    "            print(\"-\" * 20)\n",
    "menu = Menu()\n",
    "pizza = FoodItem(\"Pizza\", \"Veggie extravaganza pizza\", 12.99, \"Main Course\", \"Italian\")\n",
    "burger = FoodItem(\"Burger\", \"Veg whopper burger\", 9.99, \"Main Course\", \"American\")\n",
    "coffee = BeverageItem(\"Coffee\", \"Filter coffee\", 2.99, \"Beverage\", False)\n",
    "wine = BeverageItem(\"Wine\", \"Red wine\", 6.99, \"Beverage\", True)\n",
    "menu.add_item(pizza)\n",
    "menu.add_item(burger)\n",
    "menu.add_item(coffee)\n",
    "menu.add_item(wine)\n",
    "print(\"\\nCurrent Menu:\")\n",
    "menu.display_menu()\n",
    "menu.update_item(pizza.get_id(), price=14.99, description=\"Veggie extravaganza pizza with extra toppings\")\n",
    "print(\"\\nUpdated Menu:\")\n",
    "menu.display_menu()\n",
    "menu.remove_item(coffee.get_id())\n",
    "print(\"\\nMenu after removing an item:\")\n",
    "menu.display_menu()"
   ]
  },
  {
   "cell_type": "code",
   "execution_count": 2,
   "id": "c48843e3-6246-42b7-8536-3fce345a980f",
   "metadata": {},
   "outputs": [
    {
     "name": "stdout",
     "output_type": "stream",
     "text": [
      "\n",
      "Suite Room Details:\n",
      "Room Number: 101\n",
      "Room Type: Suite\n",
      "Rate: $250\n",
      "Jacuzzi: Yes\n",
      "Availability: Available\n",
      "\n",
      "Standard Room Details:\n",
      "Room Number: 102\n",
      "Room Type: Standard\n",
      "Rate: $150\n",
      "Availability: Available\n",
      "\n",
      "Booking Suite Room:\n",
      "Room 101 has been booked.\n",
      "\n",
      "Booking Standard Room:\n",
      "Room 102 has been booked.\n",
      "\n",
      "Trying to book already booked rooms:\n",
      "Room 101 is already booked.\n",
      "Room 102 is already booked.\n",
      "\n",
      "Checking in guests:\n",
      "Guest checked into Room 101.\n",
      "Guest checked into Room 102.\n",
      "\n",
      "Checking out guests:\n",
      "Guest checked out of Room 101. Room is now available.\n",
      "Guest checked out of Room 102. Room is now available.\n",
      "\n",
      "Room Details after Checkout:\n",
      "Room Number: 101\n",
      "Room Type: Suite\n",
      "Rate: $250\n",
      "Jacuzzi: Yes\n",
      "Availability: Available\n",
      "Room Number: 102\n",
      "Room Type: Standard\n",
      "Rate: $150\n",
      "Availability: Available\n"
     ]
    }
   ],
   "source": [
    "#Q7\n",
    "class Room:\n",
    "    def __init__(self, room_number, room_type, rate):\n",
    "        self.__room_id = id(self) \n",
    "        self.__room_number = room_number\n",
    "        self.__room_type = room_type\n",
    "        self.__rate = rate\n",
    "        self.__is_available = True\n",
    "\n",
    "    def get_room_id(self):\n",
    "        return self.__room_id\n",
    "\n",
    "    def get_room_number(self):\n",
    "        return self.__room_number\n",
    "\n",
    "    def is_available(self):\n",
    "        return self.__is_available\n",
    "\n",
    "    def book_room(self):\n",
    "        if self.__is_available:\n",
    "            self.__is_available = False\n",
    "            print(f\"Room {self.__room_number} has been booked.\")\n",
    "        else:\n",
    "            print(f\"Room {self.__room_number} is already booked.\")\n",
    "\n",
    "    def check_in(self):\n",
    "        if not self.__is_available:\n",
    "            print(f\"Guest checked into Room {self.__room_number}.\")\n",
    "        else:\n",
    "            print(f\"Room {self.__room_number} is not booked yet.\")\n",
    "\n",
    "    def check_out(self):\n",
    "        if not self.__is_available:\n",
    "            self.__is_available = True\n",
    "            print(f\"Guest checked out of Room {self.__room_number}. Room is now available.\")\n",
    "        else:\n",
    "            print(f\"Room {self.__room_number} is already available.\")\n",
    "\n",
    "class SuiteRoom(Room):\n",
    "    def __init__(self, room_number, rate, has_jacuzzi):\n",
    "        super().__init__(room_number, \"Suite\", rate)\n",
    "        self.has_jacuzzi = has_jacuzzi\n",
    "\n",
    "    def display_details(self):\n",
    "        print(f\"Room Number: {self.get_room_number()}\")\n",
    "        print(f\"Room Type: Suite\")\n",
    "        print(f\"Rate: ${self._Room__rate}\")\n",
    "        print(f\"Jacuzzi: {'Yes' if self.has_jacuzzi else 'No'}\")\n",
    "        print(f\"Availability: {'Available' if self.is_available() else 'Booked'}\")\n",
    "\n",
    "class StandardRoom(Room):\n",
    "    def __init__(self, room_number, rate):\n",
    "        super().__init__(room_number, \"Standard\", rate)\n",
    "\n",
    "    def display_details(self):\n",
    "        print(f\"Room Number: {self.get_room_number()}\")\n",
    "        print(f\"Room Type: Standard\")\n",
    "        print(f\"Rate: ${self._Room__rate}\")\n",
    "        print(f\"Availability: {'Available' if self.is_available() else 'Booked'}\")\n",
    "\n",
    "suite_room = SuiteRoom(101, 250, True)\n",
    "standard_room = StandardRoom(102, 150)\n",
    "\n",
    "print(\"\\nSuite Room Details:\")\n",
    "suite_room.display_details()\n",
    "\n",
    "print(\"\\nStandard Room Details:\")\n",
    "standard_room.display_details()\n",
    "\n",
    "print(\"\\nBooking Suite Room:\")\n",
    "suite_room.book_room()\n",
    "\n",
    "print(\"\\nBooking Standard Room:\")\n",
    "standard_room.book_room()\n",
    "\n",
    "print(\"\\nTrying to book already booked rooms:\")\n",
    "suite_room.book_room()\n",
    "standard_room.book_room()\n",
    "\n",
    "print(\"\\nChecking in guests:\")\n",
    "suite_room.check_in()\n",
    "standard_room.check_in()\n",
    "\n",
    "print(\"\\nChecking out guests:\")\n",
    "suite_room.check_out()\n",
    "standard_room.check_out()\n",
    "\n",
    "print(\"\\nRoom Details after Checkout:\")\n",
    "suite_room.display_details()\n",
    "standard_room.display_details()"
   ]
  },
  {
   "cell_type": "code",
   "execution_count": 3,
   "id": "a019cf20-8590-4561-b0c1-dea990957256",
   "metadata": {},
   "outputs": [
    {
     "name": "stdout",
     "output_type": "stream",
     "text": [
      "\n",
      "Family Member Details:\n",
      "Member ID: 135693591598976\n",
      "Name: Sam Smith\n",
      "Age: 40\n",
      "Membership Type: Family\n",
      "Family Size: 4\n",
      "Membership Status: Active\n",
      "\n",
      "Individual Member Details:\n",
      "Member ID: 135693591603104\n",
      "Name: Kumar Swamy\n",
      "Age: 30\n",
      "Membership Type: Individual\n",
      "Membership Status: Active\n",
      "\n",
      "Registering Members:\n",
      "Member Sam Smith registered with Family membership.\n",
      "Member Kumar Swamy registered with Individual membership.\n",
      "\n",
      "Renewing Memberships:\n",
      "Membership for Sam Smith has been renewed.\n",
      "Membership for Kumar Swamy has been renewed.\n",
      "\n",
      "Cancelling Memberships:\n",
      "Membership for Sam Smith has been cancelled.\n",
      "Membership for Kumar Swamy has been cancelled.\n",
      "\n",
      "Trying to renew cancelled memberships:\n",
      "Cannot renew membership for Sam Smith as it is not active.\n",
      "Cannot renew membership for Kumar Swamy as it is not active.\n",
      "\n",
      "Member Details after Cancelling Memberships:\n",
      "Member ID: 135693591598976\n",
      "Name: Sam Smith\n",
      "Age: 40\n",
      "Membership Type: Family\n",
      "Family Size: 4\n",
      "Membership Status: Inactive\n",
      "Member ID: 135693591603104\n",
      "Name: Kumar Swamy\n",
      "Age: 30\n",
      "Membership Type: Individual\n",
      "Membership Status: Inactive\n"
     ]
    }
   ],
   "source": [
    "#Q8\n",
    "class Member:\n",
    "    def __init__(self, name, age, membership_type):\n",
    "        self.__member_id = id(self)  \n",
    "        self.name = name\n",
    "        self.age = age\n",
    "        self.membership_type = membership_type\n",
    "        self.__is_active = True\n",
    "\n",
    "    def get_member_id(self):\n",
    "        return self.__member_id\n",
    "\n",
    "    def is_active(self):\n",
    "        return self.__is_active\n",
    "\n",
    "    def register(self):\n",
    "        print(f\"Member {self.name} registered with {self.membership_type} membership.\")\n",
    "\n",
    "    def renew_membership(self):\n",
    "        if self.__is_active:\n",
    "            print(f\"Membership for {self.name} has been renewed.\")\n",
    "        else:\n",
    "            print(f\"Cannot renew membership for {self.name} as it is not active.\")\n",
    "\n",
    "    def cancel_membership(self):\n",
    "        if self.__is_active:\n",
    "            self.__is_active = False\n",
    "            print(f\"Membership for {self.name} has been cancelled.\")\n",
    "        else:\n",
    "            print(f\"Membership for {self.name} is already cancelled.\")\n",
    "\n",
    "class FamilyMember(Member):\n",
    "    def __init__(self, name, age, family_size):\n",
    "        super().__init__(name, age, \"Family\")\n",
    "        self.family_size = family_size\n",
    "\n",
    "    def display_details(self):\n",
    "        print(f\"Member ID: {self.get_member_id()}\")\n",
    "        print(f\"Name: {self.name}\")\n",
    "        print(f\"Age: {self.age}\")\n",
    "        print(f\"Membership Type: Family\")\n",
    "        print(f\"Family Size: {self.family_size}\")\n",
    "        print(f\"Membership Status: {'Active' if self.is_active() else 'Inactive'}\")\n",
    "\n",
    "class IndividualMember(Member):\n",
    "    def __init__(self, name, age):\n",
    "        super().__init__(name, age, \"Individual\")\n",
    "\n",
    "    def display_details(self):\n",
    "        print(f\"Member ID: {self.get_member_id()}\")\n",
    "        print(f\"Name: {self.name}\")\n",
    "        print(f\"Age: {self.age}\")\n",
    "        print(f\"Membership Type: Individual\")\n",
    "        print(f\"Membership Status: {'Active' if self.is_active() else 'Inactive'}\")\n",
    "\n",
    "family_member = FamilyMember(\"Sam Smith\", 40, 4)\n",
    "individual_member = IndividualMember(\"Kumar Swamy\", 30)\n",
    "\n",
    "print(\"\\nFamily Member Details:\")\n",
    "family_member.display_details()\n",
    "\n",
    "print(\"\\nIndividual Member Details:\")\n",
    "individual_member.display_details()\n",
    "\n",
    "print(\"\\nRegistering Members:\")\n",
    "family_member.register()\n",
    "individual_member.register()\n",
    "\n",
    "print(\"\\nRenewing Memberships:\")\n",
    "family_member.renew_membership()\n",
    "individual_member.renew_membership()\n",
    "\n",
    "print(\"\\nCancelling Memberships:\")\n",
    "family_member.cancel_membership()\n",
    "individual_member.cancel_membership()\n",
    "\n",
    "print(\"\\nTrying to renew cancelled memberships:\")\n",
    "family_member.renew_membership()\n",
    "individual_member.renew_membership()\n",
    "\n",
    "print(\"\\nMember Details after Cancelling Memberships:\")\n",
    "family_member.display_details()\n",
    "individual_member.display_details()"
   ]
  },
  {
   "cell_type": "code",
   "execution_count": 4,
   "id": "9b291e5c-e3f6-4eaf-9c18-502b335a99d2",
   "metadata": {},
   "outputs": [
    {
     "name": "stdout",
     "output_type": "stream",
     "text": [
      "\n",
      "Adding Attendees:\n",
      "Attendee Bob Brown added to the event Board Meeting.\n",
      "Attendee Alice Johnson added to the event Music Concert.\n",
      "\n",
      "Private Event Details:\n",
      "Event ID: 135693591530032\n",
      "Name: Board Meeting\n",
      "Date: 2024-07-10\n",
      "Time: 10:00 AM\n",
      "Location: Conference Room\n",
      "Total Attendees: 1\n",
      "Invite List: John Turner, Elaine Smith\n",
      "\n",
      "Public Event Details:\n",
      "Event ID: 135693591530368\n",
      "Name: Music Concert\n",
      "Date: 2024-07-15\n",
      "Time: 6:00 PM\n",
      "Location: City Park\n",
      "Total Attendees: 1\n",
      "Max Attendees: 500\n",
      "\n",
      "Removing Attendees:\n",
      "Attendee Alice Brown not found in the event Board Meeting.\n",
      "Attendee Bob Johnson not found in the event Music Concert.\n",
      "\n",
      "Private Event Details after Removal:\n",
      "Event ID: 135693591530032\n",
      "Name: Board Meeting\n",
      "Date: 2024-07-10\n",
      "Time: 10:00 AM\n",
      "Location: Conference Room\n",
      "Total Attendees: 1\n",
      "Invite List: John Turner, Elaine Smith\n",
      "\n",
      "Public Event Details after Removal:\n",
      "Event ID: 135693591530368\n",
      "Name: Music Concert\n",
      "Date: 2024-07-15\n",
      "Time: 6:00 PM\n",
      "Location: City Park\n",
      "Total Attendees: 1\n",
      "Max Attendees: 500\n"
     ]
    }
   ],
   "source": [
    "#Q9\n",
    "class Event:\n",
    "    def __init__(self, name, date, time, location):\n",
    "        self.__event_id = id(self)  \n",
    "        self.name = name\n",
    "        self.date = date\n",
    "        self.time = time\n",
    "        self.location = location\n",
    "        self.__attendees = []\n",
    "\n",
    "    def get_event_id(self):\n",
    "        return self.__event_id\n",
    "\n",
    "    def add_attendee(self, attendee):\n",
    "        self.__attendees.append(attendee)\n",
    "        print(f\"Attendee {attendee} added to the event {self.name}.\")\n",
    "\n",
    "    def remove_attendee(self, attendee):\n",
    "        if attendee in self.__attendees:\n",
    "            self.__attendees.remove(attendee)\n",
    "            print(f\"Attendee {attendee} removed from the event {self.name}.\")\n",
    "        else:\n",
    "            print(f\"Attendee {attendee} not found in the event {self.name}.\")\n",
    "\n",
    "    def get_total_attendees(self):\n",
    "        return len(self.__attendees)\n",
    "\n",
    "    def display_event_details(self):\n",
    "        print(f\"Event ID: {self.get_event_id()}\")\n",
    "        print(f\"Name: {self.name}\")\n",
    "        print(f\"Date: {self.date}\")\n",
    "        print(f\"Time: {self.time}\")\n",
    "        print(f\"Location: {self.location}\")\n",
    "        print(f\"Total Attendees: {self.get_total_attendees()}\")\n",
    "\n",
    "class PrivateEvent(Event):\n",
    "    def __init__(self, name, date, time, location, invite_list):\n",
    "        super().__init__(name, date, time, location)\n",
    "        self.invite_list = invite_list\n",
    "\n",
    "    def display_event_details(self):\n",
    "        super().display_event_details()\n",
    "        print(f\"Invite List: {', '.join(self.invite_list)}\")\n",
    "\n",
    "class PublicEvent(Event):\n",
    "    def __init__(self, name, date, time, location, max_attendees):\n",
    "        super().__init__(name, date, time, location)\n",
    "        self.max_attendees = max_attendees\n",
    "\n",
    "    def display_event_details(self):\n",
    "        super().display_event_details()\n",
    "        print(f\"Max Attendees: {self.max_attendees}\")\n",
    "\n",
    "private_event = PrivateEvent(\"Board Meeting\", \"2024-07-10\", \"10:00 AM\", \"Conference Room\", [\"John Turner\", \"Elaine Smith\"])\n",
    "public_event = PublicEvent(\"Music Concert\", \"2024-07-15\", \"6:00 PM\", \"City Park\", 500)\n",
    "\n",
    "print(\"\\nAdding Attendees:\")\n",
    "private_event.add_attendee(\"Bob Brown\")\n",
    "public_event.add_attendee(\"Alice Johnson\")\n",
    "\n",
    "print(\"\\nPrivate Event Details:\")\n",
    "private_event.display_event_details()\n",
    "\n",
    "print(\"\\nPublic Event Details:\")\n",
    "public_event.display_event_details()\n",
    "\n",
    "print(\"\\nRemoving Attendees:\")\n",
    "private_event.remove_attendee(\"Alice Brown\")\n",
    "public_event.remove_attendee(\"Bob Johnson\")\n",
    "\n",
    "print(\"\\nPrivate Event Details after Removal:\")\n",
    "private_event.display_event_details()\n",
    "\n",
    "print(\"\\nPublic Event Details after Removal:\")\n",
    "public_event.display_event_details()"
   ]
  },
  {
   "cell_type": "code",
   "execution_count": 5,
   "id": "afe85fcb-85c8-46b2-89a5-da01ce545b54",
   "metadata": {},
   "outputs": [
    {
     "name": "stdout",
     "output_type": "stream",
     "text": [
      "\n",
      "Booking Seats:\n",
      "Seat booked on flight DF123.\n",
      "Seat booked on flight IF456.\n",
      "\n",
      "Domestic Flight Details:\n",
      "Flight ID: 135693591602768\n",
      "Flight Number: DF123\n",
      "Departure Airport: JFK\n",
      "Arrival Airport: LAX\n",
      "Departure Time: 08:00 AM\n",
      "Arrival Time: 11:00 AM\n",
      "Available Seats: 149\n",
      "Flight Type: Domestic\n",
      "\n",
      "International Flight Details:\n",
      "Flight ID: 135693591603296\n",
      "Flight Number: IF456\n",
      "Departure Airport: JFK\n",
      "Arrival Airport: LHR\n",
      "Departure Time: 07:00 PM\n",
      "Arrival Time: 07:00 AM\n",
      "Available Seats: 199\n",
      "Flight Type: International\n",
      "Passport Required: Yes\n",
      "\n",
      "Cancelling Reservations:\n",
      "Reservation cancelled on flight DF123.\n",
      "Reservation cancelled on flight IF456.\n",
      "\n",
      "Domestic Flight Details after Cancellation:\n",
      "Flight ID: 135693591602768\n",
      "Flight Number: DF123\n",
      "Departure Airport: JFK\n",
      "Arrival Airport: LAX\n",
      "Departure Time: 08:00 AM\n",
      "Arrival Time: 11:00 AM\n",
      "Available Seats: 150\n",
      "Flight Type: Domestic\n",
      "\n",
      "International Flight Details after Cancellation:\n",
      "Flight ID: 135693591603296\n",
      "Flight Number: IF456\n",
      "Departure Airport: JFK\n",
      "Arrival Airport: LHR\n",
      "Departure Time: 07:00 PM\n",
      "Arrival Time: 07:00 AM\n",
      "Available Seats: 200\n",
      "Flight Type: International\n",
      "Passport Required: Yes\n"
     ]
    }
   ],
   "source": [
    "#Q10\n",
    "class Flight:\n",
    "    def __init__(self, flight_number, departure_airport, arrival_airport, departure_time, arrival_time, total_seats):\n",
    "        self.__flight_id = id(self) \n",
    "        self.flight_number = flight_number\n",
    "        self.departure_airport = departure_airport\n",
    "        self.arrival_airport = arrival_airport\n",
    "        self.departure_time = departure_time\n",
    "        self.arrival_time = arrival_time\n",
    "        self.__available_seats = total_seats\n",
    "\n",
    "    def get_flight_id(self):\n",
    "        return self.__flight_id\n",
    "\n",
    "    def book_seat(self):\n",
    "        if self.__available_seats > 0:\n",
    "            self.__available_seats -= 1\n",
    "            print(f\"Seat booked on flight {self.flight_number}.\")\n",
    "        else:\n",
    "            print(f\"No available seats on flight {self.flight_number}.\")\n",
    "\n",
    "    def cancel_reservation(self):\n",
    "        self.__available_seats += 1\n",
    "        print(f\"Reservation cancelled on flight {self.flight_number}.\")\n",
    "\n",
    "    def get_remaining_seats(self):\n",
    "        return self.__available_seats\n",
    "\n",
    "    def display_flight_details(self):\n",
    "        print(f\"Flight ID: {self.get_flight_id()}\")\n",
    "        print(f\"Flight Number: {self.flight_number}\")\n",
    "        print(f\"Departure Airport: {self.departure_airport}\")\n",
    "        print(f\"Arrival Airport: {self.arrival_airport}\")\n",
    "        print(f\"Departure Time: {self.departure_time}\")\n",
    "        print(f\"Arrival Time: {self.arrival_time}\")\n",
    "        print(f\"Available Seats: {self.get_remaining_seats()}\")\n",
    "\n",
    "class DomesticFlight(Flight):\n",
    "    def __init__(self, flight_number, departure_airport, arrival_airport, departure_time, arrival_time, total_seats):\n",
    "        super().__init__(flight_number, departure_airport, arrival_airport, departure_time, arrival_time, total_seats)\n",
    "\n",
    "    def display_flight_details(self):\n",
    "        super().display_flight_details()\n",
    "        print(\"Flight Type: Domestic\")\n",
    "\n",
    "class InternationalFlight(Flight):\n",
    "    def __init__(self, flight_number, departure_airport, arrival_airport, departure_time, arrival_time, total_seats, passport_required):\n",
    "        super().__init__(flight_number, departure_airport, arrival_airport, departure_time, arrival_time, total_seats)\n",
    "        self.passport_required = passport_required\n",
    "\n",
    "    def display_flight_details(self):\n",
    "        super().display_flight_details()\n",
    "        print(\"Flight Type: International\")\n",
    "        print(f\"Passport Required: {'Yes' if self.passport_required else 'No'}\")\n",
    "\n",
    "domestic_flight = DomesticFlight(\"DF123\", \"JFK\", \"LAX\", \"08:00 AM\", \"11:00 AM\", 150)\n",
    "international_flight = InternationalFlight(\"IF456\", \"JFK\", \"LHR\", \"07:00 PM\", \"07:00 AM\", 200, True)\n",
    "\n",
    "print(\"\\nBooking Seats:\")\n",
    "domestic_flight.book_seat()\n",
    "international_flight.book_seat()\n",
    "\n",
    "print(\"\\nDomestic Flight Details:\")\n",
    "domestic_flight.display_flight_details()\n",
    "\n",
    "print(\"\\nInternational Flight Details:\")\n",
    "international_flight.display_flight_details()\n",
    "\n",
    "print(\"\\nCancelling Reservations:\")\n",
    "domestic_flight.cancel_reservation()\n",
    "international_flight.cancel_reservation()\n",
    "\n",
    "print(\"\\nDomestic Flight Details after Cancellation:\")\n",
    "domestic_flight.display_flight_details()\n",
    "\n",
    "print(\"\\nInternational Flight Details after Cancellation:\")\n",
    "international_flight.display_flight_details()"
   ]
  },
  {
   "cell_type": "code",
   "execution_count": 6,
   "id": "4844a0bd-a2b9-44b0-a17e-7ce0d9503465",
   "metadata": {},
   "outputs": [
    {
     "name": "stdout",
     "output_type": "stream",
     "text": [
      "Employee details have been written to employees.txt.\n"
     ]
    }
   ],
   "source": [
    "#Q16\n",
    "employees = [\n",
    "    {\"name\": \"Mark Williams\", \"age\": 30, \"salary\": 50000},\n",
    "    {\"name\": \"Elaine Smith\", \"age\": 25, \"salary\": 60000},\n",
    "    {\"name\": \"Michael Jackson\", \"age\": 35, \"salary\": 75000}\n",
    "]\n",
    "\n",
    "def write_employees_to_file(filename, employees):\n",
    "    with open(filename, 'w') as file:\n",
    "        for employee in employees:\n",
    "            file.write(f\"Name: {employee['name']}, Age: {employee['age']}, Salary: {employee['salary']}\\n\")\n",
    "\n",
    "if __name__ == \"__main__\":\n",
    "    filename = \"employees.txt\"\n",
    "    write_employees_to_file(filename, employees)\n",
    "    print(f\"Employee details have been written to {filename}.\")"
   ]
  },
  {
   "cell_type": "code",
   "execution_count": 12,
   "id": "0bd375e9-e122-4c35-b032-f083c8799896",
   "metadata": {},
   "outputs": [
    {
     "name": "stdout",
     "output_type": "stream",
     "text": [
      "Definition and Usage\n",
      "\n",
      "The strip() method removes any leading, and trailing whitespaces.\n",
      "\n",
      "Leading means at the beginning of the string, trailing means at the end.\n",
      "\n",
      "You can specify which character(s) to remove, if not, any whitespaces will be removed.\n"
     ]
    }
   ],
   "source": [
    "#Q17\n",
    "file_path = 'inventory.txt'\n",
    "try:\n",
    "    with open(file_path, 'r') as file:\n",
    "        for line in file:\n",
    "            print(line.strip()) \n",
    "except FileNotFoundError:\n",
    "    print(f\"Error: The file '{file_path}' was not found.\")\n",
    "except IOError as e:\n",
    "    print(f\"Error: {e}\")"
   ]
  },
  {
   "cell_type": "code",
   "execution_count": 13,
   "id": "72cc1474-593a-4899-98f9-56ae380d7b12",
   "metadata": {},
   "outputs": [
    {
     "name": "stdout",
     "output_type": "stream",
     "text": [
      "Total amount spent on expenses: $245.00\n"
     ]
    }
   ],
   "source": [
    "#Q18\n",
    "file_path = 'expenses.txt'\n",
    "try:\n",
    "    total_expenses = 0.0\n",
    "    with open(file_path, 'r') as file:\n",
    "        for line in file:\n",
    "            try:\n",
    "                expense_amount = float(line.strip())\n",
    "                total_expenses += expense_amount\n",
    "            except ValueError:\n",
    "                print(f\"Error: Invalid data found in '{file_path}'. Skipping this line.\")\n",
    "    print(f\"Total amount spent on expenses: ${total_expenses:.2f}\")\n",
    "except FileNotFoundError:\n",
    "    print(f\"Error: The file '{file_path}' was not found.\")\n",
    "except IOError as e:\n",
    "    print(f\"Error: {e}\")"
   ]
  },
  {
   "cell_type": "code",
   "execution_count": 17,
   "id": "5f717dc3-75c5-40c6-8350-4edd5df67b53",
   "metadata": {},
   "outputs": [
    {
     "name": "stdout",
     "output_type": "stream",
     "text": [
      "Word\t\tCount\n",
      "--------------------\n",
      "an\t\t1\n",
      "and\t\t1\n",
      "by\t\t1\n",
      "contents\t\t1\n",
      "develop\t\t1\n",
      "displays\t\t1\n",
      "existing\t\t1\n",
      "file\t\t2\n",
      "in\t\t1\n",
      "invetory\t\t1\n",
      "line\t\t2\n",
      "mode\t\t1\n",
      "named\t\t1\n",
      "of\t\t1\n",
      "opens\t\t1\n",
      "python\t\t1\n",
      "read\t\t1\n",
      "script\t\t1\n",
      "text\t\t1\n",
      "that\t\t1\n",
      "the\t\t1\n",
      "txt\t\t1\n"
     ]
    }
   ],
   "source": [
    "#Q19\n",
    "from collections import Counter\n",
    "import re\n",
    "\n",
    "file_path = 'paragraph.txt'\n",
    "try:\n",
    "    with open(file_path, 'r') as file:\n",
    "        paragraph = file.read()\n",
    "        words = re.findall(r'\\b\\w+\\b', paragraph.lower())\n",
    "        word_count = Counter(words)\n",
    "        print(\"Word\\t\\tCount\")\n",
    "        print(\"--------------------\")\n",
    "        for word, count in sorted(word_count.items()):\n",
    "            print(f\"{word}\\t\\t{count}\")\n",
    "except FileNotFoundError:\n",
    "    print(f\"Error: The file '{file_path}' was not found.\")\n",
    "except IOError as e:\n",
    "    print(f\"Error: {e}\")"
   ]
  },
  {
   "cell_type": "code",
   "execution_count": 18,
   "id": "9cb50876-edc6-489d-83a2-45c7871b0d7a",
   "metadata": {},
   "outputs": [
    {
     "data": {
      "text/plain": [
       "0.879310739389049"
      ]
     },
     "execution_count": 18,
     "metadata": {},
     "output_type": "execute_result"
    }
   ],
   "source": [
    "#Q24\n",
    "import numpy as np\n",
    "accountancy_marks=np.array([45, 70, 65, 30, 90, 40, 75, 85, 80, 60])\n",
    "statistics_marks=np.array([35, 90, 70, 40, 95, 40, 60, 80, 80, 50])\n",
    "sum_x=np.sum(accountancy_marks)\n",
    "sum_y=np.sum(statistics_marks)\n",
    "sum_x2=np.sum(accountancy_marks**2)\n",
    "sum_y2=np.sum(statistics_marks**2)\n",
    "sum_xy=np.sum(accountancy_marks*statistics_marks)\n",
    "n=len(accountancy_marks)\n",
    "numerator=n*sum_xy-sum_x*sum_y\n",
    "denominator=np.sqrt((n*sum_x2-sum_x**2)*(n*sum_y2-sum_y**2))\n",
    "correlation_coefficient=numerator/denominator\n",
    "correlation_coefficient"
   ]
  },
  {
   "cell_type": "code",
   "execution_count": 1,
   "id": "be6a1347-5b80-4bb2-bd32-24a2f0eb159b",
   "metadata": {},
   "outputs": [
    {
     "name": "stdout",
     "output_type": "stream",
     "text": [
      "(a) Mean values: x = 13.0, y = 17.0\n",
      "(b) Coefficient of correlation: r = 2.6666666666666665\n",
      "(c) Standard deviation of y: sigma_y = 2.6224718283646133\n"
     ]
    }
   ],
   "source": [
    "#Q27\n",
    "import numpy as np\n",
    "var_x=9\n",
    "A=np.array([[8,-10], [40,-18]])\n",
    "B=np.array([-66,214])\n",
    "x,y=np.linalg.solve(A,B)\n",
    "mean_x=x\n",
    "mean_y=y\n",
    "sigma_y=np.sqrt(var_x*(18**2)/(18**2+10**2))\n",
    "cov_xy=sigma_y*8\n",
    "r=cov_xy/(np.sqrt(var_x)*sigma_y)\n",
    "print(f\"(a) Mean values: x = {mean_x}, y = {mean_y}\")\n",
    "print(f\"(b) Coefficient of correlation: r = {r}\")\n",
    "print(f\"(c) Standard deviation of y: sigma_y = {sigma_y}\")"
   ]
  },
  {
   "cell_type": "code",
   "execution_count": 2,
   "id": "7c7717e6-835e-4166-a121-f19b123a53bd",
   "metadata": {},
   "outputs": [
    {
     "name": "stdout",
     "output_type": "stream",
     "text": [
      "F-Statistic: 6.743842364532019\n",
      "P-Value: 0.02918589502743675\n",
      "Reject the H0. There is a statistically significant difference in the whiteness readings between at least two of the detergents across the different water temperatures.\n"
     ]
    }
   ],
   "source": [
    "#Q38\n",
    "import numpy as np\n",
    "import scipy.stats as stats\n",
    "data = {\n",
    "    \"Cold Water\": [57, 55, 67],\n",
    "    \"Worm Water\": [49, 52, 68],\n",
    "    \"Hot Water\": [54, 46, 58]\n",
    "}\n",
    "detergents_A = [data[\"Cold Water\"][0], data[\"Worm Water\"][0], data[\"Hot Water\"][0]]\n",
    "detergents_B = [data[\"Cold Water\"][1], data[\"Worm Water\"][1], data[\"Hot Water\"][1]]\n",
    "detergents_C = [data[\"Cold Water\"][2], data[\"Worm Water\"][2], data[\"Hot Water\"][2]]\n",
    "f_statistic, p_value = stats.f_oneway(detergents_A, detergents_B, detergents_C)\n",
    "print(f\"F-Statistic: {f_statistic}\")\n",
    "print(f\"P-Value: {p_value}\")\n",
    "if p_value<0.05:\n",
    "    print('Reject the H0. There is a statistically significant difference in the whiteness readings between at least two of the detergents across the different water temperatures.')"
   ]
  },
  {
   "cell_type": "code",
   "execution_count": 5,
   "id": "8a1fb753-4384-49d4-9f18-400e2fcdc435",
   "metadata": {},
   "outputs": [
    {
     "name": "stdout",
     "output_type": "stream",
     "text": [
      "Collecting flask\n",
      "  Downloading flask-3.0.3-py3-none-any.whl (101 kB)\n",
      "\u001b[2K     \u001b[90m━━━━━━━━━━━━━━━━━━━━━━━━━━━━━━━━━━━━━━━\u001b[0m \u001b[32m101.7/101.7 kB\u001b[0m \u001b[31m4.1 MB/s\u001b[0m eta \u001b[36m0:00:00\u001b[0m\n",
      "\u001b[?25hRequirement already satisfied: Jinja2>=3.1.2 in /opt/conda/lib/python3.10/site-packages (from flask) (3.1.2)\n",
      "Collecting blinker>=1.6.2\n",
      "  Downloading blinker-1.8.2-py3-none-any.whl (9.5 kB)\n",
      "Collecting Werkzeug>=3.0.0\n",
      "  Downloading werkzeug-3.0.3-py3-none-any.whl (227 kB)\n",
      "\u001b[2K     \u001b[90m━━━━━━━━━━━━━━━━━━━━━━━━━━━━━━━━━━━━━━\u001b[0m \u001b[32m227.3/227.3 kB\u001b[0m \u001b[31m20.6 MB/s\u001b[0m eta \u001b[36m0:00:00\u001b[0m\n",
      "\u001b[?25hRequirement already satisfied: click>=8.1.3 in /opt/conda/lib/python3.10/site-packages (from flask) (8.1.3)\n",
      "Collecting itsdangerous>=2.1.2\n",
      "  Downloading itsdangerous-2.2.0-py3-none-any.whl (16 kB)\n",
      "Requirement already satisfied: MarkupSafe>=2.0 in /opt/conda/lib/python3.10/site-packages (from Jinja2>=3.1.2->flask) (2.1.1)\n",
      "Installing collected packages: Werkzeug, itsdangerous, blinker, flask\n",
      "  Attempting uninstall: blinker\n",
      "    Found existing installation: blinker 1.5\n",
      "    Uninstalling blinker-1.5:\n",
      "      Successfully uninstalled blinker-1.5\n",
      "Successfully installed Werkzeug-3.0.3 blinker-1.8.2 flask-3.0.3 itsdangerous-2.2.0\n",
      "Note: you may need to restart the kernel to use updated packages.\n"
     ]
    }
   ],
   "source": [
    "pip install flask"
   ]
  },
  {
   "cell_type": "code",
   "execution_count": 6,
   "id": "4734b347-973f-4dbb-a87a-6e73b6949b1f",
   "metadata": {},
   "outputs": [
    {
     "name": "stdout",
     "output_type": "stream",
     "text": [
      " * Serving Flask app '__main__'\n",
      " * Debug mode: on\n"
     ]
    },
    {
     "name": "stderr",
     "output_type": "stream",
     "text": [
      "WARNING: This is a development server. Do not use it in a production deployment. Use a production WSGI server instead.\n",
      " * Running on http://127.0.0.1:5000\n",
      "Press CTRL+C to quit\n",
      " * Restarting with stat\n",
      "Traceback (most recent call last):\n",
      "  File \"/opt/conda/lib/python3.10/runpy.py\", line 196, in _run_module_as_main\n",
      "    return _run_code(code, main_globals, None,\n",
      "  File \"/opt/conda/lib/python3.10/runpy.py\", line 86, in _run_code\n",
      "    exec(code, run_globals)\n",
      "  File \"/opt/conda/lib/python3.10/site-packages/ipykernel_launcher.py\", line 17, in <module>\n",
      "    app.launch_new_instance()\n",
      "  File \"/opt/conda/lib/python3.10/site-packages/traitlets/config/application.py\", line 991, in launch_instance\n",
      "    app.initialize(argv)\n",
      "  File \"/opt/conda/lib/python3.10/site-packages/traitlets/config/application.py\", line 113, in inner\n",
      "    return method(app, *args, **kwargs)\n",
      "  File \"/opt/conda/lib/python3.10/site-packages/ipykernel/kernelapp.py\", line 665, in initialize\n",
      "    self.init_sockets()\n",
      "  File \"/opt/conda/lib/python3.10/site-packages/ipykernel/kernelapp.py\", line 309, in init_sockets\n",
      "    self.shell_port = self._bind_socket(self.shell_socket, self.shell_port)\n",
      "  File \"/opt/conda/lib/python3.10/site-packages/ipykernel/kernelapp.py\", line 246, in _bind_socket\n",
      "    return self._try_bind_socket(s, port)\n",
      "  File \"/opt/conda/lib/python3.10/site-packages/ipykernel/kernelapp.py\", line 222, in _try_bind_socket\n",
      "    s.bind(\"tcp://%s:%i\" % (self.ip, port))\n",
      "  File \"/opt/conda/lib/python3.10/site-packages/zmq/sugar/socket.py\", line 232, in bind\n",
      "    super().bind(addr)\n",
      "  File \"zmq/backend/cython/socket.pyx\", line 568, in zmq.backend.cython.socket.Socket.bind\n",
      "  File \"zmq/backend/cython/checkrc.pxd\", line 28, in zmq.backend.cython.checkrc._check_rc\n",
      "zmq.error.ZMQError: Address already in use\n"
     ]
    },
    {
     "ename": "SystemExit",
     "evalue": "1",
     "output_type": "error",
     "traceback": [
      "An exception has occurred, use %tb to see the full traceback.\n",
      "\u001b[0;31mSystemExit\u001b[0m\u001b[0;31m:\u001b[0m 1\n"
     ]
    },
    {
     "name": "stderr",
     "output_type": "stream",
     "text": [
      "/opt/conda/lib/python3.10/site-packages/IPython/core/interactiveshell.py:3441: UserWarning: To exit: use 'exit', 'quit', or Ctrl-D.\n",
      "  warn(\"To exit: use 'exit', 'quit', or Ctrl-D.\", stacklevel=1)\n"
     ]
    }
   ],
   "source": [
    "#Q39\n",
    "from flask import Flask\n",
    "app = Flask(__name__)\n",
    "\n",
    "@app.route('/')\n",
    "def hello():\n",
    "    return 'Hello, World!'\n",
    "\n",
    "if __name__ == '__main__':\n",
    "    app.run(debug=True)\n"
   ]
  },
  {
   "cell_type": "code",
   "execution_count": 7,
   "id": "909df7a6-3cf7-483f-9e4d-c0855895fb90",
   "metadata": {},
   "outputs": [],
   "source": [
    "#Q41\n",
    "@app.route('/user/<username>')\n",
    "def show_user_profile(username):\n",
    "    return f'User: {username}'"
   ]
  },
  {
   "cell_type": "code",
   "execution_count": null,
   "id": "f0ce2509-f4df-4bdb-98fe-27677177677c",
   "metadata": {},
   "outputs": [],
   "source": []
  }
 ],
 "metadata": {
  "kernelspec": {
   "display_name": "Python 3 (ipykernel)",
   "language": "python",
   "name": "python3"
  },
  "language_info": {
   "codemirror_mode": {
    "name": "ipython",
    "version": 3
   },
   "file_extension": ".py",
   "mimetype": "text/x-python",
   "name": "python",
   "nbconvert_exporter": "python",
   "pygments_lexer": "ipython3",
   "version": "3.10.8"
  }
 },
 "nbformat": 4,
 "nbformat_minor": 5
}
